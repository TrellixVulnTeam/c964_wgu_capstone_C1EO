{
 "cells": [
  {
   "cell_type": "markdown",
   "id": "6092fe8e",
   "metadata": {},
   "source": [
    "# Onehot encoder"
   ]
  },
  {
   "cell_type": "code",
   "execution_count": null,
   "id": "ea70a9d5",
   "metadata": {},
   "outputs": [],
   "source": [
    "# TO DO DELETE\n",
    "# NEW ENCODER NECESSARY TO USE WIDGETS???\n",
    "\n",
    "\n",
    "\n",
    "# https://scikit-learn.org/\n",
    "# stable/modules/generated/sklearn.preprocessing.OneHotEncoder.html#sklearn.preprocessing.OneHotEncoder\n",
    "from sklearn.preprocessing import OneHotEncoder\n",
    "from sklearn.compose import ColumnTransformer\n",
    "\n",
    "\n",
    "enc = OneHotEncoder(handle_unknown='ignore')\n",
    "# Needs the .values or else will give a warning \n",
    "# https://stackoverflow.com/questions/69326639/sklearn-warnings-in-version-1-0\n",
    "# enc.fit(car_sales.values) \n",
    "# print(enc.categories_)\n",
    "# arr = enc.transform([[1990, 'Acura', 'Access Cab', 1., 'beige', 25, 1]]).toarray()\n",
    "\n",
    "# enc.inverse_transform(arr)\n",
    "# enc.get_feature_names_out\n",
    "\n",
    "# Create X (features matrix)\n",
    "x = car_sales.drop(\"sellingprice\", axis = 1)\n",
    "\n",
    "# Create y (labels)\n",
    "y = car_sales[\"sellingprice\"]\n",
    "############################################################### DELETE BELOW IF NECESSARY\n",
    "categorical_features = [\"make\", \"color\"] # Possibly remove body from predictions\n",
    "transformer = ColumnTransformer([(\"enc\",\n",
    "                                 enc,\n",
    "                                 categorical_features,)],\n",
    "                               remainder = \"passthrough\")\n",
    "# Version of x transformed into numbers\n",
    "transformed_x = transformer.fit_transform(x)\n",
    "transformed_x\n",
    "\n",
    "############################################## DELETE BELOW IF NECESSARY \n",
    "# # Create X (features matrix)\n",
    "# x = car_sales.drop(\"sellingprice\", axis = 1)\n",
    "\n",
    "# # Create y (labels)\n",
    "# y = car_sales[\"sellingprice\"]\n",
    "\n",
    "# Create model\n",
    "reg_model = RandomForestRegressor()\n",
    "\n",
    "# Split data (increase test_size to decrease model .pk1 file)\n",
    "x_train, x_test, y_train, y_test = train_test_split(transformed_x, y, test_size = 0.99)\n",
    "\n",
    "# Fit model\n",
    "reg_model.fit(x_train, y_train);\n",
    "#print(reg_model.feature_importances_)\n",
    "\n",
    "# Make predictions\n",
    "y_preds = reg_model.predict(x_test)\n",
    "y_preds\n",
    "\n",
    "# Score model\n",
    "reg_model.score(x_test, y_test)\n",
    "\n",
    "\n"
   ]
  },
  {
   "cell_type": "code",
   "execution_count": null,
   "id": "b0370ddb",
   "metadata": {},
   "outputs": [],
   "source": [
    "# TODO Delete\n",
    "\n",
    "\n",
    "# ################# TEST PREDICTION\n",
    "# enc.fit(transformed_x.toarray())\n",
    "# print(enc.get_feature_names_out())\n",
    "# print(enc.categories_)\n",
    "# arr = enc.transform([[1990, 'Acura', 'Access Cab', 1., 'beige', 25, 1]]).toarray()\n",
    "# print(arr)\n",
    "# prediction = reg_model.predict(arr)\n",
    "\n"
   ]
  }
 ],
 "metadata": {
  "kernelspec": {
   "display_name": "Python 3 (ipykernel)",
   "language": "python",
   "name": "python3"
  },
  "language_info": {
   "codemirror_mode": {
    "name": "ipython",
    "version": 3
   },
   "file_extension": ".py",
   "mimetype": "text/x-python",
   "name": "python",
   "nbconvert_exporter": "python",
   "pygments_lexer": "ipython3",
   "version": "3.9.7"
  }
 },
 "nbformat": 4,
 "nbformat_minor": 5
}
